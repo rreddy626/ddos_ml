{
  "nbformat": 4,
  "nbformat_minor": 0,
  "metadata": {
    "colab": {
      "provenance": [],
      "gpuType": "T4"
    },
    "kernelspec": {
      "name": "python3",
      "display_name": "Python 3"
    },
    "language_info": {
      "name": "python"
    },
    "accelerator": "GPU"
  },
  "cells": [
    {
      "cell_type": "markdown",
      "source": [
        "### Network Security and Privacy - Final Project Notebook:\n",
        "\n",
        "For the purposes of this project, we explore Distributed Denial of Service (DDoS) Attack Detection against Volumetric Attacks. Furthermore, we will focus on Exploitation-based Attacks as opposed to Reflection-based Attacks. While Reflection-based Attacks utilize third-party servers in order to reflect traffic back to the target, Exploitation-based Attacks aim to disrupt a system's functionality."
      ],
      "metadata": {
        "id": "QazYp0LB_2kR"
      }
    },
    {
      "cell_type": "code",
      "source": [
        "# Import Necessary Packages:\n",
        "\n",
        "import pandas as pd\n",
        "from sklearn import svm\n",
        "from sklearn.metrics import accuracy_score\n",
        "from collections import Counter\n",
        "from sklearn.model_selection import train_test_split\n",
        "from sklearn.preprocessing import StandardScaler"
      ],
      "metadata": {
        "id": "yZT5u38M1j3K"
      },
      "execution_count": null,
      "outputs": []
    },
    {
      "cell_type": "code",
      "source": [
        "from collections import Counter"
      ],
      "metadata": {
        "id": "GNfwSzOMIlG3"
      },
      "execution_count": null,
      "outputs": []
    },
    {
      "cell_type": "code",
      "source": [
        "from google.colab import drive\n",
        "drive.mount('/content/drive')"
      ],
      "metadata": {
        "colab": {
          "base_uri": "https://localhost:8080/"
        },
        "id": "r3vsZDI9FY4I",
        "outputId": "12828173-cc20-4b64-f94b-34cf58469746"
      },
      "execution_count": null,
      "outputs": [
        {
          "output_type": "stream",
          "name": "stdout",
          "text": [
            "Mounted at /content/drive\n"
          ]
        }
      ]
    },
    {
      "cell_type": "code",
      "source": [
        "# Load in the Datasets:\n",
        "syn_df = pd.read_csv('/content/drive/MyDrive/CS MS-Sem 2/CS 6501-002/project/01-12/Syn.csv')\n",
        "udp_lag_df = pd.read_csv('/content/drive/MyDrive/CS MS-Sem 2/CS 6501-002/project/01-12/UDPLag.csv')\n",
        "udp_flood_df = pd.read_csv('/content/drive/MyDrive/CS MS-Sem 2/CS 6501-002/project/01-12/DrDoS_UDP.csv')"
      ],
      "metadata": {
        "colab": {
          "base_uri": "https://localhost:8080/"
        },
        "id": "VKtw-EZWdNQw",
        "outputId": "a0c5a5e8-f0bf-4e74-d2cf-fa073ca47e96"
      },
      "execution_count": null,
      "outputs": [
        {
          "output_type": "stream",
          "name": "stderr",
          "text": [
            "<ipython-input-4-fa477e686f72>:2: DtypeWarning: Columns (85) have mixed types. Specify dtype option on import or set low_memory=False.\n",
            "  syn_df = pd.read_csv('/content/drive/MyDrive/CS MS-Sem 2/CS 6501-002/project/01-12/Syn.csv')\n",
            "<ipython-input-4-fa477e686f72>:3: DtypeWarning: Columns (85) have mixed types. Specify dtype option on import or set low_memory=False.\n",
            "  udp_lag_df = pd.read_csv('/content/drive/MyDrive/CS MS-Sem 2/CS 6501-002/project/01-12/UDPLag.csv')\n",
            "<ipython-input-4-fa477e686f72>:4: DtypeWarning: Columns (85) have mixed types. Specify dtype option on import or set low_memory=False.\n",
            "  udp_flood_df = pd.read_csv('/content/drive/MyDrive/CS MS-Sem 2/CS 6501-002/project/01-12/DrDoS_UDP.csv')\n"
          ]
        }
      ]
    },
    {
      "cell_type": "markdown",
      "source": [
        "### Exploratory Data Analysis (EDA) w/Syn Flood:"
      ],
      "metadata": {
        "id": "VAuniedWzDdy"
      }
    },
    {
      "cell_type": "code",
      "source": [
        "syn_benign = syn_df[syn_df[' Label'] == 'BENIGN']\n",
        "syn_attack = syn_df[syn_df[' Label'] == 'Syn']"
      ],
      "metadata": {
        "id": "rjxt9H3jzIVf"
      },
      "execution_count": null,
      "outputs": []
    },
    {
      "cell_type": "code",
      "source": [
        "len(syn_attack)"
      ],
      "metadata": {
        "colab": {
          "base_uri": "https://localhost:8080/"
        },
        "id": "Ejk6snmlIJ1F",
        "outputId": "177cadd2-c269-49d1-910c-1d5ee6446ddb"
      },
      "execution_count": null,
      "outputs": [
        {
          "output_type": "execute_result",
          "data": {
            "text/plain": [
              "1582289"
            ]
          },
          "metadata": {},
          "execution_count": 6
        }
      ]
    },
    {
      "cell_type": "code",
      "source": [
        "len(syn_benign)"
      ],
      "metadata": {
        "colab": {
          "base_uri": "https://localhost:8080/"
        },
        "id": "jL1DLmiRIRHc",
        "outputId": "ea824296-3d02-4d79-b917-cb3806d8cf34"
      },
      "execution_count": null,
      "outputs": [
        {
          "output_type": "execute_result",
          "data": {
            "text/plain": [
              "392"
            ]
          },
          "metadata": {},
          "execution_count": 7
        }
      ]
    },
    {
      "cell_type": "markdown",
      "source": [
        "### Determining Features for Detecting SYN Flood Attacks:\n",
        "\n",
        "The key success to developing a Machine Learning model is to have distinguishing features that can differentiate between different classes. In order to decipher between SYN Flood Attacks and benign traffic, we make use of the following features:\n",
        "\n",
        "- Total Backward Packets\n",
        "- Down/Up Ratio\n",
        "- Fwd Packets/s\n",
        "- Bwd Packets/s\n",
        "\n"
      ],
      "metadata": {
        "id": "gM9NaqDVdgo1"
      }
    },
    {
      "cell_type": "markdown",
      "source": [
        "### Approach #1: SVM Models\n",
        "\n",
        "We can use SVM models to take a subset of the original SYN Flood Data, and then test it against our allocated test data. To do this fairly, we find an equal subset of data that includes SYN and BENIGN labels:"
      ],
      "metadata": {
        "id": "A8ACgZWj00bg"
      }
    },
    {
      "cell_type": "code",
      "source": [
        "syn_df_revised = syn_df[0:1500]\n",
        "syn_df_revised = syn_df_revised[[' Total Backward Packets', ' Down/Up Ratio', 'Fwd Packets/s', ' Bwd Packets/s', ' Label']]\n",
        "syn_df_revised = syn_df_revised[syn_df_revised[' Label'] != 'BENIGN']\n",
        "\n",
        "syn_df_benign_revised = syn_benign[[' Total Backward Packets', ' Down/Up Ratio', 'Fwd Packets/s', ' Bwd Packets/s', ' Label']]\n",
        "syn_df_revised = pd.concat([syn_df_revised, syn_df_benign_revised[0:394]])\n",
        "syn_df_revised[' Label'] = [1 if entry == 'Syn' else 0 for entry in list(syn_df_revised[' Label'])]"
      ],
      "metadata": {
        "id": "b5gHNUGXgyeU"
      },
      "execution_count": null,
      "outputs": []
    },
    {
      "cell_type": "code",
      "source": [
        "Counter(syn_df_revised[' Label'])"
      ],
      "metadata": {
        "colab": {
          "base_uri": "https://localhost:8080/"
        },
        "id": "8JLQre5RIopJ",
        "outputId": "9540accc-79cb-41af-e387-833df7bf0144"
      },
      "execution_count": null,
      "outputs": [
        {
          "output_type": "execute_result",
          "data": {
            "text/plain": [
              "Counter({1: 1498, 0: 392})"
            ]
          },
          "metadata": {},
          "execution_count": 67
        }
      ]
    },
    {
      "cell_type": "code",
      "source": [
        "len(syn_df_revised)"
      ],
      "metadata": {
        "colab": {
          "base_uri": "https://localhost:8080/"
        },
        "id": "v9KW8kZ6IbtB",
        "outputId": "e826ddb8-8595-4be0-d8f2-4c2a84effd4a"
      },
      "execution_count": null,
      "outputs": [
        {
          "output_type": "execute_result",
          "data": {
            "text/plain": [
              "1890"
            ]
          },
          "metadata": {},
          "execution_count": 68
        }
      ]
    },
    {
      "cell_type": "code",
      "source": [
        "y = syn_df_revised[' Label']\n",
        "X = syn_df_revised.drop([' Label'], axis=1)\n",
        "\n",
        "# Split the data into Train/Test sets:\n",
        "X_train, X_test, y_train, y_test = train_test_split(X, y, test_size=0.3, random_state=42)\n",
        "\n",
        "# Use the StandardScaler:\n",
        "scaler = StandardScaler()\n",
        "\n",
        "# Scale the data using fit_transform and transform methods for X_train and X_test respectively:\n",
        "X_train_scaled = scaler.fit_transform(X_train)\n",
        "X_test_scaled = scaler.transform(X_test)\n",
        "\n",
        "# Model Declaration + Fitting:\n",
        "model = svm.SVC(kernel='poly')\n",
        "model.fit(X_train_scaled, y_train)\n",
        "\n",
        "print(f\"SVM Accuracy Score: {accuracy_score(model.predict(X_test_scaled), y_test)}\")"
      ],
      "metadata": {
        "id": "rDsjEvip04Lo",
        "colab": {
          "base_uri": "https://localhost:8080/"
        },
        "outputId": "29cbd6cc-1b75-4e35-f1c1-e7f58914adc5"
      },
      "execution_count": null,
      "outputs": [
        {
          "output_type": "stream",
          "name": "stdout",
          "text": [
            "SVM Accuracy Score: 0.9259259259259259\n"
          ]
        }
      ]
    },
    {
      "cell_type": "code",
      "source": [
        "print(f\"SVM Accuracy Score: {accuracy_score(model.predict(X_test_scaled), y_test)}\")"
      ],
      "metadata": {
        "colab": {
          "base_uri": "https://localhost:8080/"
        },
        "id": "NEFjMn5Tgnav",
        "outputId": "34eb18d7-5859-4855-ccc3-da650fa859c1"
      },
      "execution_count": null,
      "outputs": [
        {
          "output_type": "stream",
          "name": "stdout",
          "text": [
            "SVM Accuracy Score: 0.7977883096366508\n"
          ]
        }
      ]
    },
    {
      "cell_type": "markdown",
      "source": [
        "### Approach #2: Random Forest (RF)\n",
        "\n",
        "We can use an ensemble model methodology to test out accuracy on detecting SYN Flood attacks:"
      ],
      "metadata": {
        "id": "1cIXW7YA28LM"
      }
    },
    {
      "cell_type": "code",
      "source": [
        "from sklearn.ensemble import RandomForestClassifier\n",
        "\n",
        "def run_random_forest(X_train, y_train, X_test, y_test):\n",
        "\n",
        "  # Model Declaration + Fitting:\n",
        "  for i in range(1, 7):\n",
        "    model = RandomForestClassifier(max_depth=i, random_state=0)\n",
        "    model.fit(X_train, y_train)\n",
        "    predictions = model.predict(X_test)\n",
        "    print(summary_statistics(predictions, y_test))\n",
        "\n",
        "run_random_forest(X_train_scaled, y_train, X_test_scaled, y_test)"
      ],
      "metadata": {
        "colab": {
          "base_uri": "https://localhost:8080/"
        },
        "id": "um36p5cNjm5Y",
        "outputId": "5d5a0cec-194f-4da4-a622-ad18f6df27fa"
      },
      "execution_count": null,
      "outputs": [
        {
          "output_type": "stream",
          "name": "stdout",
          "text": [
            "Accuracy Score: 0.5706\n",
            "F1-Score: 0.7044\n",
            "Precision Score: 0.9221\n",
            "Recall Score: 0.5706\n",
            "None\n",
            "Accuracy Score: 0.6417\n",
            "F1-Score: 0.6816\n",
            "Precision Score: 0.8375\n",
            "Recall Score: 0.6417\n",
            "None\n"
          ]
        },
        {
          "output_type": "stream",
          "name": "stderr",
          "text": [
            "/usr/local/lib/python3.11/dist-packages/sklearn/metrics/_classification.py:1565: UndefinedMetricWarning: Recall is ill-defined and being set to 0.0 in labels with no true samples. Use `zero_division` parameter to control this behavior.\n",
            "  _warn_prf(average, modifier, f\"{metric.capitalize()} is\", len(result))\n",
            "/usr/local/lib/python3.11/dist-packages/sklearn/metrics/_classification.py:1565: UndefinedMetricWarning: Recall is ill-defined and being set to 0.0 in labels with no true samples. Use `zero_division` parameter to control this behavior.\n",
            "  _warn_prf(average, modifier, f\"{metric.capitalize()} is\", len(result))\n"
          ]
        },
        {
          "output_type": "stream",
          "name": "stdout",
          "text": [
            "Accuracy Score: 0.6445\n",
            "F1-Score: 0.6808\n",
            "Precision Score: 0.8352\n",
            "Recall Score: 0.6445\n",
            "None\n",
            "Accuracy Score: 0.7156\n",
            "F1-Score: 0.7512\n",
            "Precision Score: 0.8701\n",
            "Recall Score: 0.7156\n",
            "None\n",
            "Accuracy Score: 0.7521\n",
            "F1-Score: 0.7721\n",
            "Precision Score: 0.8401\n",
            "Recall Score: 0.7521\n",
            "None\n",
            "Accuracy Score: 0.7521\n",
            "F1-Score: 0.7697\n",
            "Precision Score: 0.8305\n",
            "Recall Score: 0.7521\n",
            "None\n"
          ]
        }
      ]
    },
    {
      "cell_type": "markdown",
      "source": [
        "### UDP Flood Attacks:\n",
        "\n",
        "Now we can focus exclusively on UDP Flood Attacks"
      ],
      "metadata": {
        "id": "a2_aDzDsBO8v"
      }
    },
    {
      "cell_type": "code",
      "source": [
        "# Equal Sampling of Each Class:\n",
        "udp_lag_revised_df = udp_lag_df[0:1000]\n",
        "udp_lag_df_benign = udp_lag_df[udp_lag_df[' Label'] == 'BENIGN']\n",
        "udp_lag_revised_df = pd.concat([udp_lag_revised_df, udp_lag_df_benign[0:671]])\n",
        "udp_lag_df_ddos = udp_lag_df[udp_lag_df[' Label'] == 'WebDDoS']\n",
        "udp_lag_revised_df = pd.concat([udp_lag_revised_df, udp_lag_df_ddos[0:439]])\n",
        "\n",
        "udp_lag_revised_df = udp_lag_revised_df[[' Total Backward Packets', ' Down/Up Ratio', 'Fwd Packets/s', ' Bwd Packets/s', ' Label']]\n",
        "\n",
        "num_labels = []\n",
        "for entry in udp_lag_revised_df[' Label']:\n",
        "  if entry == 'UDP-lag':\n",
        "    num_labels.append(2)\n",
        "  if entry == 'WebDDoS':\n",
        "    num_labels.append(4)\n",
        "  if entry == 'BENIGN':\n",
        "    num_labels.append(3)\n",
        "\n",
        "udp_lag_revised_df[' Label'] = num_labels"
      ],
      "metadata": {
        "id": "DBqztpiFBUMI"
      },
      "execution_count": null,
      "outputs": []
    },
    {
      "cell_type": "code",
      "source": [
        "Counter(udp_lag_revised_df[' Label'])"
      ],
      "metadata": {
        "colab": {
          "base_uri": "https://localhost:8080/"
        },
        "id": "x-mvzCrFJD8Y",
        "outputId": "414011b1-4bad-4585-b923-ce9a1fa08925"
      },
      "execution_count": null,
      "outputs": [
        {
          "output_type": "execute_result",
          "data": {
            "text/plain": [
              "Counter({2: 1000, 3: 671, 4: 439})"
            ]
          },
          "metadata": {},
          "execution_count": 102
        }
      ]
    },
    {
      "cell_type": "code",
      "source": [
        "y = udp_lag_revised_df[' Label']\n",
        "X = udp_lag_revised_df.drop([' Label'], axis=1)\n",
        "\n",
        "# Split the data into Train/Test sets:\n",
        "X_train, X_test, y_train, y_test = train_test_split(X, y, test_size=0.3, random_state=42)\n",
        "\n",
        "# Use the StandardScaler:\n",
        "scaler = StandardScaler()\n",
        "\n",
        "# Scale the data using fit_transform and transform methods for X_train and X_test respectively:\n",
        "X_train_scaled = scaler.fit_transform(X_train)\n",
        "X_test_scaled = scaler.transform(X_test)\n",
        "\n",
        "# Model Declaration + Fitting:\n",
        "model = svm.SVC(kernel='poly')\n",
        "model.fit(X_train_scaled, y_train)\n",
        "\n",
        "print(f\"SVM Accuracy Score: {accuracy_score(model.predict(X_test_scaled), y_test)}\")"
      ],
      "metadata": {
        "colab": {
          "base_uri": "https://localhost:8080/"
        },
        "id": "kAPBLuEFzmjS",
        "outputId": "9c536af3-af16-409d-aeca-f2a8b0085c80"
      },
      "execution_count": null,
      "outputs": [
        {
          "output_type": "stream",
          "name": "stdout",
          "text": [
            "SVM Accuracy Score: 0.7914691943127962\n"
          ]
        }
      ]
    },
    {
      "cell_type": "code",
      "source": [
        "model = svm.SVC(kernel='linear')\n",
        "model.fit(X_train_scaled, y_train)\n",
        "\n",
        "print(f\"SVM Accuracy Score: {accuracy_score(model.predict(X_test_scaled), y_test)}\")"
      ],
      "metadata": {
        "colab": {
          "base_uri": "https://localhost:8080/"
        },
        "id": "jb64EQ8_0vGf",
        "outputId": "fb1c90bc-f0a8-4312-e69d-cbc98069ba38"
      },
      "execution_count": null,
      "outputs": [
        {
          "output_type": "stream",
          "name": "stdout",
          "text": [
            "SVM Accuracy Score: 0.7977883096366508\n"
          ]
        }
      ]
    },
    {
      "cell_type": "code",
      "source": [
        "run_random_forest(X_train_scaled, y_train, X_test_scaled, y_test)"
      ],
      "metadata": {
        "colab": {
          "base_uri": "https://localhost:8080/"
        },
        "id": "ntcFGNpC0LYz",
        "outputId": "8a67d52c-8d30-4ff3-c0f0-5ffe2819b86d"
      },
      "execution_count": null,
      "outputs": [
        {
          "output_type": "stream",
          "name": "stdout",
          "text": [
            "RF Accuracy Score: 0.7551342812006319\n",
            "RF Accuracy Score: 0.8751974723538705\n",
            "RF Accuracy Score: 0.9304897314375987\n",
            "RF Accuracy Score: 0.9447077409162717\n",
            "RF Accuracy Score: 0.9510268562401264\n",
            "RF Accuracy Score: 0.9510268562401264\n"
          ]
        }
      ]
    },
    {
      "cell_type": "markdown",
      "source": [
        "Objective: Create a subset of 4000 rows thats representative of the attacks."
      ],
      "metadata": {
        "id": "AzEZOyhvJSXx"
      }
    },
    {
      "cell_type": "code",
      "source": [
        "syn_df_revised.columns = syn_df_revised.columns.str.strip()\n",
        "udp_lag_revised_df.columns = udp_lag_revised_df.columns.str.strip()"
      ],
      "metadata": {
        "id": "icKb0D-SHN0O"
      },
      "execution_count": null,
      "outputs": []
    },
    {
      "cell_type": "code",
      "source": [
        "print(syn_df_revised.columns)\n",
        "print(udp_lag_revised_df.columns)"
      ],
      "metadata": {
        "colab": {
          "base_uri": "https://localhost:8080/"
        },
        "id": "kj18MLXZHO5F",
        "outputId": "26837ecb-3e55-473c-d026-9f14a638ac72"
      },
      "execution_count": null,
      "outputs": [
        {
          "output_type": "stream",
          "name": "stdout",
          "text": [
            "Index(['Total Backward Packets', 'Down/Up Ratio', 'Fwd Packets/s',\n",
            "       'Bwd Packets/s', 'Label'],\n",
            "      dtype='object')\n",
            "Index(['Total Backward Packets', 'Down/Up Ratio', 'Fwd Packets/s',\n",
            "       'Bwd Packets/s', 'Label'],\n",
            "      dtype='object')\n"
          ]
        }
      ]
    },
    {
      "cell_type": "code",
      "source": [
        "combined_df = pd.concat([syn_df_revised, udp_lag_revised_df], ignore_index=True)"
      ],
      "metadata": {
        "id": "Eko_rkrOHT-B"
      },
      "execution_count": null,
      "outputs": []
    },
    {
      "cell_type": "code",
      "source": [
        "print(Counter(combined_df['Label']))"
      ],
      "metadata": {
        "colab": {
          "base_uri": "https://localhost:8080/"
        },
        "id": "rXbhS55XHWBo",
        "outputId": "ca90c57b-dad3-43ee-d1bb-10b95b9d1d4d"
      },
      "execution_count": null,
      "outputs": [
        {
          "output_type": "stream",
          "name": "stdout",
          "text": [
            "Counter({1: 1498, 2: 1000, 3: 671, 4: 439, 0: 392})\n"
          ]
        }
      ]
    },
    {
      "cell_type": "code",
      "source": [
        "print(Counter(syn_df_revised['Label']))"
      ],
      "metadata": {
        "colab": {
          "base_uri": "https://localhost:8080/"
        },
        "id": "0Jin0wIE0cZo",
        "outputId": "3875b2a3-8fc5-4778-f477-c90467b8392c"
      },
      "execution_count": null,
      "outputs": [
        {
          "output_type": "stream",
          "name": "stdout",
          "text": [
            "Counter({1: 1498, 0: 392})\n"
          ]
        }
      ]
    },
    {
      "cell_type": "code",
      "source": [
        "len(combined_df)"
      ],
      "metadata": {
        "colab": {
          "base_uri": "https://localhost:8080/"
        },
        "id": "lf283pMeHZ-M",
        "outputId": "b6c38a3a-c136-44b9-d2f0-642391a881f1"
      },
      "execution_count": null,
      "outputs": [
        {
          "output_type": "execute_result",
          "data": {
            "text/plain": [
              "4000"
            ]
          },
          "metadata": {},
          "execution_count": 112
        }
      ]
    },
    {
      "cell_type": "code",
      "source": [
        "syn_df_revised"
      ],
      "metadata": {
        "colab": {
          "base_uri": "https://localhost:8080/",
          "height": 424
        },
        "id": "UbgoGp-V0hW1",
        "outputId": "793f51ad-fbe3-48df-8ef4-c6e2bd326730"
      },
      "execution_count": null,
      "outputs": [
        {
          "output_type": "execute_result",
          "data": {
            "text/plain": [
              "         Total Backward Packets  Down/Up Ratio  Fwd Packets/s  Bwd Packets/s  \\\n",
              "0                             2            0.0   1.640770e-01       0.017271   \n",
              "1                             0            0.0   1.403830e-01       0.000000   \n",
              "2                             2            1.0   1.785714e+04   17857.142857   \n",
              "3                             0            0.0   1.509648e-01       0.000000   \n",
              "4                             0            0.0   2.000000e+06       0.000000   \n",
              "...                         ...            ...            ...            ...   \n",
              "1479185                       0            0.0   8.005380e+00       0.000000   \n",
              "1482435                       2            2.0   4.608295e+03    9216.589862   \n",
              "1482436                       2            2.0   5.154639e+03   10309.278351   \n",
              "1502348                       2            1.0   9.611688e+01      96.116878   \n",
              "1502473                       2            1.0   4.353126e+01      43.531255   \n",
              "\n",
              "         Label  \n",
              "0            1  \n",
              "1            1  \n",
              "2            1  \n",
              "3            1  \n",
              "4            1  \n",
              "...        ...  \n",
              "1479185      0  \n",
              "1482435      0  \n",
              "1482436      0  \n",
              "1502348      0  \n",
              "1502473      0  \n",
              "\n",
              "[1890 rows x 5 columns]"
            ],
            "text/html": [
              "\n",
              "  <div id=\"df-bbef0582-cbfb-416e-a47b-860f76159e1c\" class=\"colab-df-container\">\n",
              "    <div>\n",
              "<style scoped>\n",
              "    .dataframe tbody tr th:only-of-type {\n",
              "        vertical-align: middle;\n",
              "    }\n",
              "\n",
              "    .dataframe tbody tr th {\n",
              "        vertical-align: top;\n",
              "    }\n",
              "\n",
              "    .dataframe thead th {\n",
              "        text-align: right;\n",
              "    }\n",
              "</style>\n",
              "<table border=\"1\" class=\"dataframe\">\n",
              "  <thead>\n",
              "    <tr style=\"text-align: right;\">\n",
              "      <th></th>\n",
              "      <th>Total Backward Packets</th>\n",
              "      <th>Down/Up Ratio</th>\n",
              "      <th>Fwd Packets/s</th>\n",
              "      <th>Bwd Packets/s</th>\n",
              "      <th>Label</th>\n",
              "    </tr>\n",
              "  </thead>\n",
              "  <tbody>\n",
              "    <tr>\n",
              "      <th>0</th>\n",
              "      <td>2</td>\n",
              "      <td>0.0</td>\n",
              "      <td>1.640770e-01</td>\n",
              "      <td>0.017271</td>\n",
              "      <td>1</td>\n",
              "    </tr>\n",
              "    <tr>\n",
              "      <th>1</th>\n",
              "      <td>0</td>\n",
              "      <td>0.0</td>\n",
              "      <td>1.403830e-01</td>\n",
              "      <td>0.000000</td>\n",
              "      <td>1</td>\n",
              "    </tr>\n",
              "    <tr>\n",
              "      <th>2</th>\n",
              "      <td>2</td>\n",
              "      <td>1.0</td>\n",
              "      <td>1.785714e+04</td>\n",
              "      <td>17857.142857</td>\n",
              "      <td>1</td>\n",
              "    </tr>\n",
              "    <tr>\n",
              "      <th>3</th>\n",
              "      <td>0</td>\n",
              "      <td>0.0</td>\n",
              "      <td>1.509648e-01</td>\n",
              "      <td>0.000000</td>\n",
              "      <td>1</td>\n",
              "    </tr>\n",
              "    <tr>\n",
              "      <th>4</th>\n",
              "      <td>0</td>\n",
              "      <td>0.0</td>\n",
              "      <td>2.000000e+06</td>\n",
              "      <td>0.000000</td>\n",
              "      <td>1</td>\n",
              "    </tr>\n",
              "    <tr>\n",
              "      <th>...</th>\n",
              "      <td>...</td>\n",
              "      <td>...</td>\n",
              "      <td>...</td>\n",
              "      <td>...</td>\n",
              "      <td>...</td>\n",
              "    </tr>\n",
              "    <tr>\n",
              "      <th>1479185</th>\n",
              "      <td>0</td>\n",
              "      <td>0.0</td>\n",
              "      <td>8.005380e+00</td>\n",
              "      <td>0.000000</td>\n",
              "      <td>0</td>\n",
              "    </tr>\n",
              "    <tr>\n",
              "      <th>1482435</th>\n",
              "      <td>2</td>\n",
              "      <td>2.0</td>\n",
              "      <td>4.608295e+03</td>\n",
              "      <td>9216.589862</td>\n",
              "      <td>0</td>\n",
              "    </tr>\n",
              "    <tr>\n",
              "      <th>1482436</th>\n",
              "      <td>2</td>\n",
              "      <td>2.0</td>\n",
              "      <td>5.154639e+03</td>\n",
              "      <td>10309.278351</td>\n",
              "      <td>0</td>\n",
              "    </tr>\n",
              "    <tr>\n",
              "      <th>1502348</th>\n",
              "      <td>2</td>\n",
              "      <td>1.0</td>\n",
              "      <td>9.611688e+01</td>\n",
              "      <td>96.116878</td>\n",
              "      <td>0</td>\n",
              "    </tr>\n",
              "    <tr>\n",
              "      <th>1502473</th>\n",
              "      <td>2</td>\n",
              "      <td>1.0</td>\n",
              "      <td>4.353126e+01</td>\n",
              "      <td>43.531255</td>\n",
              "      <td>0</td>\n",
              "    </tr>\n",
              "  </tbody>\n",
              "</table>\n",
              "<p>1890 rows × 5 columns</p>\n",
              "</div>\n",
              "    <div class=\"colab-df-buttons\">\n",
              "\n",
              "  <div class=\"colab-df-container\">\n",
              "    <button class=\"colab-df-convert\" onclick=\"convertToInteractive('df-bbef0582-cbfb-416e-a47b-860f76159e1c')\"\n",
              "            title=\"Convert this dataframe to an interactive table.\"\n",
              "            style=\"display:none;\">\n",
              "\n",
              "  <svg xmlns=\"http://www.w3.org/2000/svg\" height=\"24px\" viewBox=\"0 -960 960 960\">\n",
              "    <path d=\"M120-120v-720h720v720H120Zm60-500h600v-160H180v160Zm220 220h160v-160H400v160Zm0 220h160v-160H400v160ZM180-400h160v-160H180v160Zm440 0h160v-160H620v160ZM180-180h160v-160H180v160Zm440 0h160v-160H620v160Z\"/>\n",
              "  </svg>\n",
              "    </button>\n",
              "\n",
              "  <style>\n",
              "    .colab-df-container {\n",
              "      display:flex;\n",
              "      gap: 12px;\n",
              "    }\n",
              "\n",
              "    .colab-df-convert {\n",
              "      background-color: #E8F0FE;\n",
              "      border: none;\n",
              "      border-radius: 50%;\n",
              "      cursor: pointer;\n",
              "      display: none;\n",
              "      fill: #1967D2;\n",
              "      height: 32px;\n",
              "      padding: 0 0 0 0;\n",
              "      width: 32px;\n",
              "    }\n",
              "\n",
              "    .colab-df-convert:hover {\n",
              "      background-color: #E2EBFA;\n",
              "      box-shadow: 0px 1px 2px rgba(60, 64, 67, 0.3), 0px 1px 3px 1px rgba(60, 64, 67, 0.15);\n",
              "      fill: #174EA6;\n",
              "    }\n",
              "\n",
              "    .colab-df-buttons div {\n",
              "      margin-bottom: 4px;\n",
              "    }\n",
              "\n",
              "    [theme=dark] .colab-df-convert {\n",
              "      background-color: #3B4455;\n",
              "      fill: #D2E3FC;\n",
              "    }\n",
              "\n",
              "    [theme=dark] .colab-df-convert:hover {\n",
              "      background-color: #434B5C;\n",
              "      box-shadow: 0px 1px 3px 1px rgba(0, 0, 0, 0.15);\n",
              "      filter: drop-shadow(0px 1px 2px rgba(0, 0, 0, 0.3));\n",
              "      fill: #FFFFFF;\n",
              "    }\n",
              "  </style>\n",
              "\n",
              "    <script>\n",
              "      const buttonEl =\n",
              "        document.querySelector('#df-bbef0582-cbfb-416e-a47b-860f76159e1c button.colab-df-convert');\n",
              "      buttonEl.style.display =\n",
              "        google.colab.kernel.accessAllowed ? 'block' : 'none';\n",
              "\n",
              "      async function convertToInteractive(key) {\n",
              "        const element = document.querySelector('#df-bbef0582-cbfb-416e-a47b-860f76159e1c');\n",
              "        const dataTable =\n",
              "          await google.colab.kernel.invokeFunction('convertToInteractive',\n",
              "                                                    [key], {});\n",
              "        if (!dataTable) return;\n",
              "\n",
              "        const docLinkHtml = 'Like what you see? Visit the ' +\n",
              "          '<a target=\"_blank\" href=https://colab.research.google.com/notebooks/data_table.ipynb>data table notebook</a>'\n",
              "          + ' to learn more about interactive tables.';\n",
              "        element.innerHTML = '';\n",
              "        dataTable['output_type'] = 'display_data';\n",
              "        await google.colab.output.renderOutput(dataTable, element);\n",
              "        const docLink = document.createElement('div');\n",
              "        docLink.innerHTML = docLinkHtml;\n",
              "        element.appendChild(docLink);\n",
              "      }\n",
              "    </script>\n",
              "  </div>\n",
              "\n",
              "\n",
              "<div id=\"df-59fc7fda-049d-46fb-b308-9eb8b30e99fa\">\n",
              "  <button class=\"colab-df-quickchart\" onclick=\"quickchart('df-59fc7fda-049d-46fb-b308-9eb8b30e99fa')\"\n",
              "            title=\"Suggest charts\"\n",
              "            style=\"display:none;\">\n",
              "\n",
              "<svg xmlns=\"http://www.w3.org/2000/svg\" height=\"24px\"viewBox=\"0 0 24 24\"\n",
              "     width=\"24px\">\n",
              "    <g>\n",
              "        <path d=\"M19 3H5c-1.1 0-2 .9-2 2v14c0 1.1.9 2 2 2h14c1.1 0 2-.9 2-2V5c0-1.1-.9-2-2-2zM9 17H7v-7h2v7zm4 0h-2V7h2v10zm4 0h-2v-4h2v4z\"/>\n",
              "    </g>\n",
              "</svg>\n",
              "  </button>\n",
              "\n",
              "<style>\n",
              "  .colab-df-quickchart {\n",
              "      --bg-color: #E8F0FE;\n",
              "      --fill-color: #1967D2;\n",
              "      --hover-bg-color: #E2EBFA;\n",
              "      --hover-fill-color: #174EA6;\n",
              "      --disabled-fill-color: #AAA;\n",
              "      --disabled-bg-color: #DDD;\n",
              "  }\n",
              "\n",
              "  [theme=dark] .colab-df-quickchart {\n",
              "      --bg-color: #3B4455;\n",
              "      --fill-color: #D2E3FC;\n",
              "      --hover-bg-color: #434B5C;\n",
              "      --hover-fill-color: #FFFFFF;\n",
              "      --disabled-bg-color: #3B4455;\n",
              "      --disabled-fill-color: #666;\n",
              "  }\n",
              "\n",
              "  .colab-df-quickchart {\n",
              "    background-color: var(--bg-color);\n",
              "    border: none;\n",
              "    border-radius: 50%;\n",
              "    cursor: pointer;\n",
              "    display: none;\n",
              "    fill: var(--fill-color);\n",
              "    height: 32px;\n",
              "    padding: 0;\n",
              "    width: 32px;\n",
              "  }\n",
              "\n",
              "  .colab-df-quickchart:hover {\n",
              "    background-color: var(--hover-bg-color);\n",
              "    box-shadow: 0 1px 2px rgba(60, 64, 67, 0.3), 0 1px 3px 1px rgba(60, 64, 67, 0.15);\n",
              "    fill: var(--button-hover-fill-color);\n",
              "  }\n",
              "\n",
              "  .colab-df-quickchart-complete:disabled,\n",
              "  .colab-df-quickchart-complete:disabled:hover {\n",
              "    background-color: var(--disabled-bg-color);\n",
              "    fill: var(--disabled-fill-color);\n",
              "    box-shadow: none;\n",
              "  }\n",
              "\n",
              "  .colab-df-spinner {\n",
              "    border: 2px solid var(--fill-color);\n",
              "    border-color: transparent;\n",
              "    border-bottom-color: var(--fill-color);\n",
              "    animation:\n",
              "      spin 1s steps(1) infinite;\n",
              "  }\n",
              "\n",
              "  @keyframes spin {\n",
              "    0% {\n",
              "      border-color: transparent;\n",
              "      border-bottom-color: var(--fill-color);\n",
              "      border-left-color: var(--fill-color);\n",
              "    }\n",
              "    20% {\n",
              "      border-color: transparent;\n",
              "      border-left-color: var(--fill-color);\n",
              "      border-top-color: var(--fill-color);\n",
              "    }\n",
              "    30% {\n",
              "      border-color: transparent;\n",
              "      border-left-color: var(--fill-color);\n",
              "      border-top-color: var(--fill-color);\n",
              "      border-right-color: var(--fill-color);\n",
              "    }\n",
              "    40% {\n",
              "      border-color: transparent;\n",
              "      border-right-color: var(--fill-color);\n",
              "      border-top-color: var(--fill-color);\n",
              "    }\n",
              "    60% {\n",
              "      border-color: transparent;\n",
              "      border-right-color: var(--fill-color);\n",
              "    }\n",
              "    80% {\n",
              "      border-color: transparent;\n",
              "      border-right-color: var(--fill-color);\n",
              "      border-bottom-color: var(--fill-color);\n",
              "    }\n",
              "    90% {\n",
              "      border-color: transparent;\n",
              "      border-bottom-color: var(--fill-color);\n",
              "    }\n",
              "  }\n",
              "</style>\n",
              "\n",
              "  <script>\n",
              "    async function quickchart(key) {\n",
              "      const quickchartButtonEl =\n",
              "        document.querySelector('#' + key + ' button');\n",
              "      quickchartButtonEl.disabled = true;  // To prevent multiple clicks.\n",
              "      quickchartButtonEl.classList.add('colab-df-spinner');\n",
              "      try {\n",
              "        const charts = await google.colab.kernel.invokeFunction(\n",
              "            'suggestCharts', [key], {});\n",
              "      } catch (error) {\n",
              "        console.error('Error during call to suggestCharts:', error);\n",
              "      }\n",
              "      quickchartButtonEl.classList.remove('colab-df-spinner');\n",
              "      quickchartButtonEl.classList.add('colab-df-quickchart-complete');\n",
              "    }\n",
              "    (() => {\n",
              "      let quickchartButtonEl =\n",
              "        document.querySelector('#df-59fc7fda-049d-46fb-b308-9eb8b30e99fa button');\n",
              "      quickchartButtonEl.style.display =\n",
              "        google.colab.kernel.accessAllowed ? 'block' : 'none';\n",
              "    })();\n",
              "  </script>\n",
              "</div>\n",
              "\n",
              "  <div id=\"id_2ec3ab44-90ba-4cf7-9943-af077dc552b4\">\n",
              "    <style>\n",
              "      .colab-df-generate {\n",
              "        background-color: #E8F0FE;\n",
              "        border: none;\n",
              "        border-radius: 50%;\n",
              "        cursor: pointer;\n",
              "        display: none;\n",
              "        fill: #1967D2;\n",
              "        height: 32px;\n",
              "        padding: 0 0 0 0;\n",
              "        width: 32px;\n",
              "      }\n",
              "\n",
              "      .colab-df-generate:hover {\n",
              "        background-color: #E2EBFA;\n",
              "        box-shadow: 0px 1px 2px rgba(60, 64, 67, 0.3), 0px 1px 3px 1px rgba(60, 64, 67, 0.15);\n",
              "        fill: #174EA6;\n",
              "      }\n",
              "\n",
              "      [theme=dark] .colab-df-generate {\n",
              "        background-color: #3B4455;\n",
              "        fill: #D2E3FC;\n",
              "      }\n",
              "\n",
              "      [theme=dark] .colab-df-generate:hover {\n",
              "        background-color: #434B5C;\n",
              "        box-shadow: 0px 1px 3px 1px rgba(0, 0, 0, 0.15);\n",
              "        filter: drop-shadow(0px 1px 2px rgba(0, 0, 0, 0.3));\n",
              "        fill: #FFFFFF;\n",
              "      }\n",
              "    </style>\n",
              "    <button class=\"colab-df-generate\" onclick=\"generateWithVariable('syn_df_revised')\"\n",
              "            title=\"Generate code using this dataframe.\"\n",
              "            style=\"display:none;\">\n",
              "\n",
              "  <svg xmlns=\"http://www.w3.org/2000/svg\" height=\"24px\"viewBox=\"0 0 24 24\"\n",
              "       width=\"24px\">\n",
              "    <path d=\"M7,19H8.4L18.45,9,17,7.55,7,17.6ZM5,21V16.75L18.45,3.32a2,2,0,0,1,2.83,0l1.4,1.43a1.91,1.91,0,0,1,.58,1.4,1.91,1.91,0,0,1-.58,1.4L9.25,21ZM18.45,9,17,7.55Zm-12,3A5.31,5.31,0,0,0,4.9,8.1,5.31,5.31,0,0,0,1,6.5,5.31,5.31,0,0,0,4.9,4.9,5.31,5.31,0,0,0,6.5,1,5.31,5.31,0,0,0,8.1,4.9,5.31,5.31,0,0,0,12,6.5,5.46,5.46,0,0,0,6.5,12Z\"/>\n",
              "  </svg>\n",
              "    </button>\n",
              "    <script>\n",
              "      (() => {\n",
              "      const buttonEl =\n",
              "        document.querySelector('#id_2ec3ab44-90ba-4cf7-9943-af077dc552b4 button.colab-df-generate');\n",
              "      buttonEl.style.display =\n",
              "        google.colab.kernel.accessAllowed ? 'block' : 'none';\n",
              "\n",
              "      buttonEl.onclick = () => {\n",
              "        google.colab.notebook.generateWithVariable('syn_df_revised');\n",
              "      }\n",
              "      })();\n",
              "    </script>\n",
              "  </div>\n",
              "\n",
              "    </div>\n",
              "  </div>\n"
            ],
            "application/vnd.google.colaboratory.intrinsic+json": {
              "type": "dataframe",
              "variable_name": "syn_df_revised",
              "summary": "{\n  \"name\": \"syn_df_revised\",\n  \"rows\": 1890,\n  \"fields\": [\n    {\n      \"column\": \"Total Backward Packets\",\n      \"properties\": {\n        \"dtype\": \"number\",\n        \"std\": 22,\n        \"min\": 0,\n        \"max\": 817,\n        \"num_unique_values\": 45,\n        \"samples\": [\n          23,\n          50,\n          241\n        ],\n        \"semantic_type\": \"\",\n        \"description\": \"\"\n      }\n    },\n    {\n      \"column\": \"Down/Up Ratio\",\n      \"properties\": {\n        \"dtype\": \"number\",\n        \"std\": 0.5724866332155755,\n        \"min\": 0.0,\n        \"max\": 7.0,\n        \"num_unique_values\": 7,\n        \"samples\": [\n          0.0,\n          1.0,\n          7.0\n        ],\n        \"semantic_type\": \"\",\n        \"description\": \"\"\n      }\n    },\n    {\n      \"column\": \"Fwd Packets/s\",\n      \"properties\": {\n        \"dtype\": \"number\",\n        \"std\": 928822.968744935,\n        \"min\": 0.0,\n        \"max\": 3000000.0,\n        \"num_unique_values\": 949,\n        \"samples\": [\n          0.1108231310482416,\n          0.147794156510945,\n          42.40522432363667\n        ],\n        \"semantic_type\": \"\",\n        \"description\": \"\"\n      }\n    },\n    {\n      \"column\": \"Bwd Packets/s\",\n      \"properties\": {\n        \"dtype\": \"number\",\n        \"std\": 6155.140607402104,\n        \"min\": 0.0,\n        \"max\": 40816.32653061225,\n        \"num_unique_values\": 653,\n        \"samples\": [\n          0.0175958930200321,\n          0.0173274160554052,\n          0.0345201019313021\n        ],\n        \"semantic_type\": \"\",\n        \"description\": \"\"\n      }\n    },\n    {\n      \"column\": \"Label\",\n      \"properties\": {\n        \"dtype\": \"number\",\n        \"std\": 0,\n        \"min\": 0,\n        \"max\": 1,\n        \"num_unique_values\": 2,\n        \"samples\": [\n          0,\n          1\n        ],\n        \"semantic_type\": \"\",\n        \"description\": \"\"\n      }\n    }\n  ]\n}"
            }
          },
          "metadata": {},
          "execution_count": 113
        }
      ]
    },
    {
      "cell_type": "code",
      "source": [
        "revised_combined = combined_df[combined_df['Label'] != 4]"
      ],
      "metadata": {
        "id": "zEIZ_KB0JprR"
      },
      "execution_count": null,
      "outputs": []
    },
    {
      "cell_type": "code",
      "source": [
        "print(Counter(revised_combined['Label']))"
      ],
      "metadata": {
        "colab": {
          "base_uri": "https://localhost:8080/"
        },
        "id": "FQ1t2Kux1ebP",
        "outputId": "dc87b967-5343-440f-b3d3-d6743a033dd2"
      },
      "execution_count": null,
      "outputs": [
        {
          "output_type": "stream",
          "name": "stdout",
          "text": [
            "Counter({1: 1498, 2: 1000, 3: 671, 0: 392})\n"
          ]
        }
      ]
    },
    {
      "cell_type": "code",
      "source": [
        "combined_df.to_csv(\"combined_df.csv\", index=False)"
      ],
      "metadata": {
        "id": "0GJMBpY8J_KA"
      },
      "execution_count": null,
      "outputs": []
    },
    {
      "cell_type": "markdown",
      "source": [
        "Objective 2: Run the SVM, Random Forest, and ..."
      ],
      "metadata": {
        "id": "f6xO28KPvRD5"
      }
    },
    {
      "cell_type": "markdown",
      "source": [
        "Test 1: SVM"
      ],
      "metadata": {
        "id": "15ThQ1P4wDJJ"
      }
    },
    {
      "cell_type": "code",
      "source": [
        "revised_combined = revised_combined.dropna()"
      ],
      "metadata": {
        "id": "SX7UGniZ3iaR"
      },
      "execution_count": null,
      "outputs": []
    },
    {
      "cell_type": "code",
      "source": [
        "y = revised_combined['Label']\n",
        "X = revised_combined.drop(['Label'], axis=1)\n",
        "\n",
        "# Split the data into Train/Test sets:\n",
        "X_train, X_test, y_train, y_test = train_test_split(X, y, test_size=0.3, random_state=42)\n",
        "\n",
        "# Use the StandardScaler:\n",
        "scaler = StandardScaler()\n",
        "\n",
        "# Scale the data using fit_transform and transform methods for X_train and X_test respectively:\n",
        "X_train_scaled = scaler.fit_transform(X_train)\n",
        "X_test_scaled = scaler.transform(X_test)\n",
        "\n",
        "# Model Declaration + Fitting:\n",
        "model = svm.SVC(kernel='poly')\n",
        "model.fit(X_train_scaled, y_train)\n",
        "\n",
        "print(f\"SVM Accuracy Score: {accuracy_score(model.predict(X_test_scaled), y_test)}\")\n",
        "summary_statistics(model.predict(X_test_scaled), y_test)"
      ],
      "metadata": {
        "colab": {
          "base_uri": "https://localhost:8080/"
        },
        "id": "vEtezAElzd64",
        "outputId": "62c4f848-9d98-4118-cc04-d5042e72dedb"
      },
      "execution_count": null,
      "outputs": [
        {
          "output_type": "stream",
          "name": "stdout",
          "text": [
            "SVM Accuracy Score: 0.5846585594013096\n",
            "Accuracy Score: 0.5847\n",
            "F1-Score: 0.7187\n",
            "Precision Score: 0.9494\n",
            "Recall Score: 0.5847\n"
          ]
        },
        {
          "output_type": "stream",
          "name": "stderr",
          "text": [
            "/usr/local/lib/python3.11/dist-packages/sklearn/metrics/_classification.py:1565: UndefinedMetricWarning: Recall is ill-defined and being set to 0.0 in labels with no true samples. Use `zero_division` parameter to control this behavior.\n",
            "  _warn_prf(average, modifier, f\"{metric.capitalize()} is\", len(result))\n"
          ]
        }
      ]
    },
    {
      "cell_type": "markdown",
      "source": [
        "Test 2: Random Forest"
      ],
      "metadata": {
        "id": "YOqEZowswYt4"
      }
    },
    {
      "cell_type": "code",
      "source": [
        "model = svm.SVC(kernel='linear')\n",
        "model.fit(X_train_scaled, y_train)\n",
        "\n",
        "print(f\"Random Accuracy Score: {accuracy_score(model.predict(X_test_scaled), y_test)}\")\n",
        "summary_statistics(model.predict(X_test_scaled), y_test)"
      ],
      "metadata": {
        "colab": {
          "base_uri": "https://localhost:8080/"
        },
        "id": "-On8J0A--8f9",
        "outputId": "3e660b00-e6e2-41f0-e1f8-efb080cdba3d"
      },
      "execution_count": null,
      "outputs": [
        {
          "output_type": "stream",
          "name": "stdout",
          "text": [
            "SVM Accuracy Score: 0.5631431244153414\n",
            "Accuracy Score: 0.5631\n",
            "F1-Score: 0.6954\n",
            "Precision Score: 0.9141\n",
            "Recall Score: 0.5631\n"
          ]
        },
        {
          "output_type": "stream",
          "name": "stderr",
          "text": [
            "/usr/local/lib/python3.11/dist-packages/sklearn/metrics/_classification.py:1565: UndefinedMetricWarning: Recall is ill-defined and being set to 0.0 in labels with no true samples. Use `zero_division` parameter to control this behavior.\n",
            "  _warn_prf(average, modifier, f\"{metric.capitalize()} is\", len(result))\n"
          ]
        }
      ]
    },
    {
      "cell_type": "code",
      "source": [
        "run_random_forest(X_train_scaled, y_train, X_test_scaled, y_test)"
      ],
      "metadata": {
        "colab": {
          "base_uri": "https://localhost:8080/"
        },
        "id": "F3grsgvt9nQw",
        "outputId": "0bd9772f-c457-4dd8-b97f-eae3e59b8c4f"
      },
      "execution_count": null,
      "outputs": [
        {
          "output_type": "stream",
          "name": "stdout",
          "text": [
            "RF Accuracy Score: 0.5706267539756782\n",
            "RF Accuracy Score: 0.6417212347988774\n",
            "RF Accuracy Score: 0.6445275958840038\n",
            "RF Accuracy Score: 0.715622076707203\n",
            "RF Accuracy Score: 0.7521047708138447\n",
            "RF Accuracy Score: 0.7521047708138447\n"
          ]
        }
      ]
    },
    {
      "cell_type": "markdown",
      "source": [
        "Test 3: XG-Boost"
      ],
      "metadata": {
        "id": "mTNGEtqSxLCv"
      }
    },
    {
      "cell_type": "code",
      "source": [
        "import xgboost as xgb\n",
        "from sklearn.metrics import accuracy_score, precision_score, recall_score, f1_score"
      ],
      "metadata": {
        "id": "UPPnxseL7Amy"
      },
      "execution_count": null,
      "outputs": []
    },
    {
      "cell_type": "code",
      "source": [
        "def run_xgboost(X_train, y_train, X_test, y_test):\n",
        "\n",
        "  \"\"\"Trains and tests an XGBoost model, returns the predictions from the model\"\"\"\n",
        "\n",
        "  xgb_model = xgb.XGBClassifier()\n",
        "  xgb_model.fit(X_train_scaled, y_train)\n",
        "\n",
        "  predictions = xgb_model.predict(X_test)\n",
        "\n",
        "  return predictions\n",
        "\n",
        "def summary_statistics(predictions, y_test):\n",
        "\n",
        "  \"\"\"Returns the summary statistics (Accuracy, F1-Score, Precision, Recall), given predictions and their actual labels\"\"\"\n",
        "\n",
        "  print(f\"Accuracy Score: {accuracy_score(predictions, y_test):.4f}\")\n",
        "  print(f\"F1-Score: {f1_score(predictions, y_test, average='weighted'):.4f}\")\n",
        "  print(f\"Precision Score: {precision_score(predictions, y_test, average='weighted'):.4f}\")\n",
        "  print(f\"Recall Score: {recall_score(predictions, y_test, average='weighted'):.4f}\")"
      ],
      "metadata": {
        "id": "j5_TU--FvQzv"
      },
      "execution_count": null,
      "outputs": []
    },
    {
      "cell_type": "code",
      "source": [
        "type(y_train)\n",
        "y_train = y_train.rename(index={4: 3})\n",
        "y_test = y_test.rename(index={4: 3})"
      ],
      "metadata": {
        "id": "m_fTthDf6KAd"
      },
      "execution_count": null,
      "outputs": []
    },
    {
      "cell_type": "code",
      "source": [
        "predictions = run_xgboost(X_train_scaled, y_train, X_test_scaled, y_test)\n",
        "summary_statistics(predictions, y_test)"
      ],
      "metadata": {
        "colab": {
          "base_uri": "https://localhost:8080/"
        },
        "id": "fPUeRiGB5k3m",
        "outputId": "77d628d4-224b-4c11-b791-a8443ef9c4a3"
      },
      "execution_count": null,
      "outputs": [
        {
          "output_type": "stream",
          "name": "stdout",
          "text": [
            "Accuracy Score: 0.7615\n",
            "F1-Score: 0.7752\n",
            "Precision Score: 0.8303\n",
            "Recall Score: 0.7615\n"
          ]
        }
      ]
    },
    {
      "cell_type": "markdown",
      "source": [
        "Objective 3: Look through DrDos data set for important details"
      ],
      "metadata": {
        "id": "s9UckJonJfqS"
      }
    }
  ]
}