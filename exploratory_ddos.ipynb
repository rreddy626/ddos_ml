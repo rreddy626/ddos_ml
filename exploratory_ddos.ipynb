{
  "cells": [
    {
      "cell_type": "markdown",
      "metadata": {
        "id": "QazYp0LB_2kR"
      },
      "source": [
        "### Network Security and Privacy - Final Project Notebook:\n",
        "\n",
        "For the purposes of this project, we explore Distributed Denial of Service (DDoS) Attack Detection against Volumetric Attacks. Furthermore, we will focus on Exploitation-based Attacks as opposed to Reflection-based Attacks. While Reflection-based Attacks utilize third-party servers in order to reflect traffic back to the target, Exploitation-based Attacks aim to disrupt a system's functionality."
      ]
    },
    {
      "cell_type": "code",
      "execution_count": 2,
      "metadata": {
        "id": "yZT5u38M1j3K"
      },
      "outputs": [],
      "source": [
        "# Import Necessary Packages:\n",
        "import pandas as pd\n",
        "\n",
        "# Scikit-Learn Packages:\n",
        "from sklearn import svm\n",
        "from sklearn.metrics import accuracy_score, precision_score, recall_score, f1_score\n",
        "from sklearn.ensemble import RandomForestClassifier\n",
        "from sklearn.model_selection import train_test_split\n",
        "from sklearn.preprocessing import StandardScaler\n",
        "\n",
        "# XGBoost:\n",
        "import xgboost as xgb\n",
        "\n",
        "# Miscellaneous:\n",
        "from collections import Counter"
      ]
    },
    {
      "cell_type": "code",
      "execution_count": 3,
      "metadata": {
        "colab": {
          "base_uri": "https://localhost:8080/"
        },
        "id": "VKtw-EZWdNQw",
        "outputId": "72b0e08c-efc7-484a-8600-edeeb4ddf90f"
      },
      "outputs": [
        {
          "output_type": "stream",
          "name": "stderr",
          "text": [
            "<ipython-input-3-afda9918943d>:2: DtypeWarning: Columns (85) have mixed types. Specify dtype option on import or set low_memory=False.\n",
            "  syn_df = pd.read_csv('drive/MyDrive/01-12/Syn.csv')\n",
            "<ipython-input-3-afda9918943d>:3: DtypeWarning: Columns (85) have mixed types. Specify dtype option on import or set low_memory=False.\n",
            "  udp_lag_df = pd.read_csv('drive/MyDrive/01-12/UDPLag.csv')\n"
          ]
        }
      ],
      "source": [
        "# Load in the Datasets:\n",
        "syn_df = pd.read_csv('drive/MyDrive/01-12/Syn.csv')\n",
        "udp_lag_df = pd.read_csv('drive/MyDrive/01-12/UDPLag.csv')"
      ]
    },
    {
      "cell_type": "markdown",
      "metadata": {
        "id": "VAuniedWzDdy"
      },
      "source": [
        "### Exploratory Data Analysis (EDA) w/Syn Flood:"
      ]
    },
    {
      "cell_type": "code",
      "execution_count": 4,
      "metadata": {
        "id": "rjxt9H3jzIVf"
      },
      "outputs": [],
      "source": [
        "syn_benign = syn_df[syn_df[' Label'] == 'BENIGN']\n",
        "syn_attack = syn_df[syn_df[' Label'] == 'Syn']"
      ]
    },
    {
      "cell_type": "markdown",
      "metadata": {
        "id": "gM9NaqDVdgo1"
      },
      "source": [
        "### Determining Features for Detecting SYN Flood Attacks:\n",
        "\n",
        "The key success to developing a Machine Learning model is to have distinguishing features that can differentiate between different classes. In order to decipher between SYN Flood Attacks and benign traffic, we make use of the following features:\n",
        "\n",
        "- Total Backward Packets\n",
        "- Down/Up Ratio\n",
        "- Fwd Packets/s\n",
        "- Bwd Packets/s\n",
        "\n"
      ]
    },
    {
      "cell_type": "markdown",
      "metadata": {
        "id": "A8ACgZWj00bg"
      },
      "source": [
        "### Approach #1: SVM Models\n",
        "\n",
        "We can use SVM models to take a subset of the original SYN Flood Data, and then test it against our allocated test data. To do this fairly, we find an equal subset of data that includes SYN and BENIGN labels:"
      ]
    },
    {
      "cell_type": "code",
      "execution_count": null,
      "metadata": {
        "id": "b5gHNUGXgyeU"
      },
      "outputs": [],
      "source": [
        "syn_df_revised = syn_df[0:394]\n",
        "syn_df_revised = syn_df_revised[[' Total Backward Packets', ' Down/Up Ratio', 'Fwd Packets/s', ' Bwd Packets/s', ' Label']]\n",
        "syn_df_revised = syn_df_revised[syn_df_revised[' Label'] != 'BENIGN']\n",
        "\n",
        "syn_df_benign_revised = syn_benign[[' Total Backward Packets', ' Down/Up Ratio', 'Fwd Packets/s', ' Bwd Packets/s', ' Label']]\n",
        "syn_df_revised = pd.concat([syn_df_revised, syn_df_benign_revised[0:394]])\n",
        "syn_df_revised[' Label'] = [1 if entry == 'Syn' else 0 for entry in list(syn_df_revised[' Label'])]"
      ]
    },
    {
      "cell_type": "code",
      "source": [
        "Counter(syn_df_revised[' Label'])"
      ],
      "metadata": {
        "colab": {
          "base_uri": "https://localhost:8080/"
        },
        "id": "kRs5LEt-FdiV",
        "outputId": "415a817f-72bd-4762-c214-adf43d878f5a"
      },
      "execution_count": null,
      "outputs": [
        {
          "output_type": "execute_result",
          "data": {
            "text/plain": [
              "Counter({1: 392, 0: 392})"
            ]
          },
          "metadata": {},
          "execution_count": 8
        }
      ]
    },
    {
      "cell_type": "code",
      "execution_count": null,
      "metadata": {
        "colab": {
          "base_uri": "https://localhost:8080/"
        },
        "id": "rDsjEvip04Lo",
        "outputId": "8298e462-34e1-4cb2-d63f-5f1db374fdb8"
      },
      "outputs": [
        {
          "output_type": "stream",
          "name": "stdout",
          "text": [
            "SVM Accuracy Score: 0.885593220338983\n"
          ]
        }
      ],
      "source": [
        "y = syn_df_revised[' Label']\n",
        "X = syn_df_revised.drop([' Label'], axis=1)\n",
        "\n",
        "# Split the data into Train/Test sets:\n",
        "X_train, X_test, y_train, y_test = train_test_split(X, y, test_size=0.3, random_state=42)\n",
        "\n",
        "# Use the StandardScaler:\n",
        "scaler = StandardScaler()\n",
        "\n",
        "# Scale the data using fit_transform and transform methods for X_train and X_test respectively:\n",
        "X_train_scaled = scaler.fit_transform(X_train)\n",
        "X_test_scaled = scaler.transform(X_test)\n",
        "\n",
        "# Model Declaration + Fitting:\n",
        "model = svm.SVC(kernel='poly')\n",
        "model.fit(X_train_scaled, y_train)\n",
        "\n",
        "print(f\"SVM Accuracy Score: {accuracy_score(model.predict(X_test_scaled), y_test)}\")"
      ]
    },
    {
      "cell_type": "code",
      "source": [
        "def summary_statistics(predictions, y_test):\n",
        "\n",
        "  \"\"\"Returns the summary statistics (Accuracy, F1-Score, Precision, Recall), given predictions and their actual labels\"\"\"\n",
        "\n",
        "  print(f\"Accuracy Score: {accuracy_score(predictions, y_test)}\")\n",
        "  print(f\"F1-Score: {f1_score(predictions, y_test)}\")\n",
        "  print(f\"Precision Score: {accuracy_score(predictions, y_test)}\")\n",
        "  print(f\"Recall Score: {recall_score(predictions, y_test)}\")"
      ],
      "metadata": {
        "id": "fYs508w5YO-a"
      },
      "execution_count": null,
      "outputs": []
    },
    {
      "cell_type": "code",
      "source": [
        "summary_statistics(model.predict(X_test_scaled), y_test) # Linear"
      ],
      "metadata": {
        "colab": {
          "base_uri": "https://localhost:8080/"
        },
        "id": "YKQAF0NWMV0Q",
        "outputId": "4b3943af-80f1-49ea-9dcb-bf936c2ce826"
      },
      "execution_count": null,
      "outputs": [
        {
          "output_type": "stream",
          "name": "stdout",
          "text": [
            "Accuracy Score: 0.8898305084745762\n",
            "F1-Score: 0.9051094890510949\n",
            "Precision Score: 0.8898305084745762\n",
            "Recall Score: 0.8266666666666667\n"
          ]
        }
      ]
    },
    {
      "cell_type": "code",
      "execution_count": null,
      "metadata": {
        "colab": {
          "base_uri": "https://localhost:8080/"
        },
        "id": "NEFjMn5Tgnav",
        "outputId": "54be9c7d-fa46-4e2d-d286-ecc0524ce6bc"
      },
      "outputs": [
        {
          "output_type": "stream",
          "name": "stdout",
          "text": [
            "SVM Accuracy Score: 0.885593220338983\n"
          ]
        }
      ],
      "source": [
        "print(f\"SVM Accuracy Score: {accuracy_score(model.predict(X_test_scaled), y_test)}\")"
      ]
    },
    {
      "cell_type": "markdown",
      "metadata": {
        "id": "1cIXW7YA28LM"
      },
      "source": [
        "### Approach #2: Random Forest (RF)\n",
        "\n",
        "We can use an ensemble model methodology to test out accuracy on detecting SYN Flood attacks:"
      ]
    },
    {
      "cell_type": "code",
      "execution_count": null,
      "metadata": {
        "colab": {
          "base_uri": "https://localhost:8080/"
        },
        "id": "um36p5cNjm5Y",
        "outputId": "ce32a8cf-5b41-445f-bdcc-4e31ac2e7919"
      },
      "outputs": [
        {
          "output_type": "stream",
          "name": "stdout",
          "text": [
            "Accuracy Score: 0.9242424242424242\n",
            "F1-Score: 0.9295774647887324\n",
            "Precision Score: 1.0\n",
            "Recall Score: 0.868421052631579\n",
            "None\n",
            "--------\n",
            "Accuracy Score: 0.946969696969697\n",
            "F1-Score: 0.9492753623188406\n",
            "Precision Score: 0.9924242424242424\n",
            "Recall Score: 0.9097222222222222\n",
            "None\n",
            "--------\n",
            "Accuracy Score: 0.946969696969697\n",
            "F1-Score: 0.9492753623188406\n",
            "Precision Score: 0.9924242424242424\n",
            "Recall Score: 0.9097222222222222\n",
            "None\n",
            "--------\n",
            "Accuracy Score: 0.9583333333333334\n",
            "F1-Score: 0.9597069597069597\n",
            "Precision Score: 0.9924242424242424\n",
            "Recall Score: 0.9290780141843972\n",
            "None\n",
            "--------\n",
            "Accuracy Score: 0.9583333333333334\n",
            "F1-Score: 0.9597069597069597\n",
            "Precision Score: 0.9924242424242424\n",
            "Recall Score: 0.9290780141843972\n",
            "None\n",
            "--------\n",
            "Accuracy Score: 0.9583333333333334\n",
            "F1-Score: 0.9597069597069597\n",
            "Precision Score: 0.9924242424242424\n",
            "Recall Score: 0.9290780141843972\n",
            "None\n",
            "--------\n"
          ]
        }
      ],
      "source": [
        "from sklearn.ensemble import RandomForestClassifier\n",
        "\n",
        "def run_random_forest(X_train, y_train, X_test, y_test):\n",
        "\n",
        "  # Model Declaration + Fitting:\n",
        "  for i in range(1, 7):\n",
        "    model = RandomForestClassifier(max_depth=i, random_state=0)\n",
        "    model.fit(X_train, y_train)\n",
        "    predictions = model.predict(X_test)\n",
        "    print(summary_statistics(predictions, y_test))\n",
        "    print(\"--------\")\n",
        "\n",
        "run_random_forest(X_train, y_train, X_test, y_test)"
      ]
    },
    {
      "cell_type": "markdown",
      "source": [
        "### Approach #3: XGBoost\n",
        "\n"
      ],
      "metadata": {
        "id": "5b-FCiCkBVGK"
      }
    },
    {
      "cell_type": "code",
      "source": [
        "def run_xgboost(X_train, y_train, X_test, y_test):\n",
        "\n",
        "  \"\"\"Trains and tests an XGBoost model, returns the predictions from the model\"\"\"\n",
        "\n",
        "  xgb_model = xgb.XGBClassifier()\n",
        "  xgb_model.fit(X_train_scaled, y_train)\n",
        "\n",
        "  predictions = xgb_model.predict(X_test)\n",
        "\n",
        "  return predictions\n",
        "\n",
        "def summary_statistics(predictions, y_test):\n",
        "\n",
        "  \"\"\"Returns the summary statistics (Accuracy, F1-Score, Precision, Recall), given predictions and their actual labels\"\"\"\n",
        "\n",
        "  print(f\"Accuracy Score: {accuracy_score(predictions, y_test)}\")\n",
        "  print(f\"F1-Score: {f1_score(predictions, y_test)}\")\n",
        "  print(f\"Precision Score: {precision_score(predictions, y_test)}\")\n",
        "  print(f\"Recall Score: {recall_score(predictions, y_test)}\")"
      ],
      "metadata": {
        "id": "dFCg-SoJBUnJ"
      },
      "execution_count": null,
      "outputs": []
    },
    {
      "cell_type": "code",
      "source": [
        "predictions = run_xgboost(X_train_scaled, y_train, X_test_scaled, y_test)\n",
        "summary_statistics(predictions, y_test)"
      ],
      "metadata": {
        "colab": {
          "base_uri": "https://localhost:8080/"
        },
        "id": "VVf8IEHHBuwD",
        "outputId": "42599332-842c-47ac-9519-303ebe7069d0"
      },
      "execution_count": null,
      "outputs": [
        {
          "output_type": "stream",
          "name": "stdout",
          "text": [
            "Accuracy Score: 0.9449152542372882\n",
            "F1-Score: 0.9494163424124513\n",
            "Precision Score: 0.9838709677419355\n",
            "Recall Score: 0.9172932330827067\n"
          ]
        }
      ]
    },
    {
      "cell_type": "markdown",
      "metadata": {
        "id": "a2_aDzDsBO8v"
      },
      "source": [
        "### UDP Flood Attacks:\n",
        "\n",
        "Now we can focus exclusively on UDP Flood Attacks"
      ]
    },
    {
      "cell_type": "code",
      "execution_count": null,
      "metadata": {
        "id": "DBqztpiFBUMI"
      },
      "outputs": [],
      "source": [
        "# Equal Sampling of Each Class:\n",
        "udp_lag_revised_df = udp_lag_df[0:439]\n",
        "udp_lag_df_benign = udp_lag_df[udp_lag_df[' Label'] == 'BENIGN']\n",
        "udp_lag_revised_df = pd.concat([udp_lag_revised_df, udp_lag_df_benign[0:439]])\n",
        "udp_lag_df_ddos = udp_lag_df[udp_lag_df[' Label'] == 'WebDDoS']\n",
        "udp_lag_revised_df = pd.concat([udp_lag_revised_df, udp_lag_df_ddos[0:439]])\n",
        "\n",
        "udp_lag_revised_df = udp_lag_revised_df[[' Total Backward Packets', ' Down/Up Ratio', 'Fwd Packets/s', ' Bwd Packets/s', ' Label']]\n",
        "udp_lag_revised_df = udp_lag_revised_df[udp_lag_revised_df[' Label'] != 'WebDDoS']\n",
        "\n",
        "num_labels = []\n",
        "for entry in udp_lag_revised_df[' Label']:\n",
        "  if entry == 'UDP-lag':\n",
        "    num_labels.append(1)\n",
        "  if entry == 'BENIGN':\n",
        "    num_labels.append(0)\n",
        "\n",
        "udp_lag_revised_df[' Label'] = num_labels"
      ]
    },
    {
      "cell_type": "code",
      "source": [
        "Counter(udp_lag_revised_df[' Label'])"
      ],
      "metadata": {
        "colab": {
          "base_uri": "https://localhost:8080/"
        },
        "id": "i-4WGH9bGqZi",
        "outputId": "61c09a47-1efa-4e6c-95d8-092e370d7c8e"
      },
      "execution_count": null,
      "outputs": [
        {
          "output_type": "execute_result",
          "data": {
            "text/plain": [
              "Counter({1: 439, 0: 439})"
            ]
          },
          "metadata": {},
          "execution_count": 10
        }
      ]
    },
    {
      "cell_type": "code",
      "execution_count": null,
      "metadata": {
        "colab": {
          "base_uri": "https://localhost:8080/"
        },
        "id": "kAPBLuEFzmjS",
        "outputId": "df5836cb-7f42-462a-806b-d2651ba36803"
      },
      "outputs": [
        {
          "output_type": "stream",
          "name": "stdout",
          "text": [
            "SVM Accuracy Score: 0.9242424242424242\n"
          ]
        }
      ],
      "source": [
        "y = udp_lag_revised_df[' Label']\n",
        "X = udp_lag_revised_df.drop([' Label'], axis=1)\n",
        "\n",
        "# Split the data into Train/Test sets:\n",
        "X_train, X_test, y_train, y_test = train_test_split(X, y, test_size=0.3, random_state=42)\n",
        "\n",
        "# Use the StandardScaler:\n",
        "scaler = StandardScaler()\n",
        "\n",
        "# Scale the data using fit_transform and transform methods for X_train and X_test respectively:\n",
        "X_train_scaled = scaler.fit_transform(X_train)\n",
        "X_test_scaled = scaler.transform(X_test)\n",
        "\n",
        "# Model Declaration + Fitting:\n",
        "model = svm.SVC(kernel='poly')\n",
        "model.fit(X_train_scaled, y_train)\n",
        "\n",
        "print(f\"SVM Accuracy Score: {accuracy_score(model.predict(X_test_scaled), y_test)}\")"
      ]
    },
    {
      "cell_type": "code",
      "source": [
        "summary_statistics(model.predict(X_test_scaled), y_test)"
      ],
      "metadata": {
        "colab": {
          "base_uri": "https://localhost:8080/"
        },
        "id": "mR_8w-Qc6287",
        "outputId": "64110459-d2a3-45cd-8c5f-6dd4cd9ef9ff"
      },
      "execution_count": null,
      "outputs": [
        {
          "output_type": "stream",
          "name": "stdout",
          "text": [
            "Accuracy Score: 0.9242424242424242\n",
            "F1-Score: 0.927007299270073\n",
            "Precision Score: 0.9621212121212122\n",
            "Recall Score: 0.8943661971830986\n"
          ]
        }
      ]
    },
    {
      "cell_type": "code",
      "execution_count": null,
      "metadata": {
        "colab": {
          "base_uri": "https://localhost:8080/"
        },
        "id": "jb64EQ8_0vGf",
        "outputId": "002b4fed-bf4c-4ce3-d7e2-ccaf25d39a65"
      },
      "outputs": [
        {
          "output_type": "stream",
          "name": "stdout",
          "text": [
            "SVM Accuracy Score: 0.9128787878787878\n"
          ]
        }
      ],
      "source": [
        "model = svm.SVC(kernel='linear')\n",
        "model.fit(X_train_scaled, y_train)\n",
        "\n",
        "print(f\"SVM Accuracy Score: {precision_score(model.predict(X_test_scaled), y_test, average='macro')}\")"
      ]
    },
    {
      "cell_type": "code",
      "source": [
        "run_random_forest(X_train, y_train, X_test, y_test)"
      ],
      "metadata": {
        "id": "y_FeGr19a_cK",
        "colab": {
          "base_uri": "https://localhost:8080/"
        },
        "outputId": "71daa83e-c61b-4832-c37b-20f1895eac0f"
      },
      "execution_count": null,
      "outputs": [
        {
          "output_type": "stream",
          "name": "stdout",
          "text": [
            "Accuracy Score: 0.9242424242424242\n",
            "F1-Score: 0.9295774647887324\n",
            "Precision Score: 1.0\n",
            "Recall Score: 0.868421052631579\n",
            "None\n",
            "--------\n",
            "Accuracy Score: 0.946969696969697\n",
            "F1-Score: 0.9492753623188406\n",
            "Precision Score: 0.9924242424242424\n",
            "Recall Score: 0.9097222222222222\n",
            "None\n",
            "--------\n",
            "Accuracy Score: 0.946969696969697\n",
            "F1-Score: 0.9492753623188406\n",
            "Precision Score: 0.9924242424242424\n",
            "Recall Score: 0.9097222222222222\n",
            "None\n",
            "--------\n",
            "Accuracy Score: 0.9583333333333334\n",
            "F1-Score: 0.9597069597069597\n",
            "Precision Score: 0.9924242424242424\n",
            "Recall Score: 0.9290780141843972\n",
            "None\n",
            "--------\n",
            "Accuracy Score: 0.9583333333333334\n",
            "F1-Score: 0.9597069597069597\n",
            "Precision Score: 0.9924242424242424\n",
            "Recall Score: 0.9290780141843972\n",
            "None\n",
            "--------\n",
            "Accuracy Score: 0.9583333333333334\n",
            "F1-Score: 0.9597069597069597\n",
            "Precision Score: 0.9924242424242424\n",
            "Recall Score: 0.9290780141843972\n",
            "None\n",
            "--------\n"
          ]
        }
      ]
    },
    {
      "cell_type": "code",
      "source": [
        "predictions = run_xgboost(X_train_scaled, y_train, X_test_scaled, y_test)\n",
        "summary_statistics(predictions, y_test)"
      ],
      "metadata": {
        "colab": {
          "base_uri": "https://localhost:8080/"
        },
        "id": "xCeXIdDi0IJu",
        "outputId": "b87950a1-e95b-4e30-aedd-ea06c142af0d"
      },
      "execution_count": null,
      "outputs": [
        {
          "output_type": "stream",
          "name": "stdout",
          "text": [
            "Accuracy Score: 0.946969696969697\n",
            "F1-Score: 0.9485294117647058\n",
            "Precision Score: 0.9772727272727273\n",
            "Recall Score: 0.9214285714285714\n"
          ]
        }
      ]
    }
  ],
  "metadata": {
    "accelerator": "GPU",
    "colab": {
      "gpuType": "T4",
      "provenance": []
    },
    "kernelspec": {
      "display_name": "Python 3",
      "name": "python3"
    },
    "language_info": {
      "name": "python"
    }
  },
  "nbformat": 4,
  "nbformat_minor": 0
}